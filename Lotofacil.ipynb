{
 "cells": [
  {
   "cell_type": "code",
   "execution_count": 1,
   "id": "1d50b18b",
   "metadata": {},
   "outputs": [],
   "source": [
    "import requests\n",
    "import numpy as np\n",
    "from bs4 import BeautifulSoup\n",
    "from selenium import webdriver\n",
    "from selenium.webdriver.common.by import By\n",
    "from selenium.webdriver.common.keys import Keys\n",
    "import time\n",
    "import pandas as pd\n",
    "from sklearn.linear_model import LinearRegression\n",
    "from sklearn.model_selection  import train_test_split\n",
    "from sklearn.metrics  import mean_squared_error\n",
    "from sklearn.model_selection import train_test_split\n",
    "from sklearn.tree import DecisionTreeClassifier\n",
    "from sklearn.metrics import accuracy_score\n",
    "import numpy as np\n",
    "import tensorflow as tf\n",
    "from sklearn.model_selection import train_test_split\n",
    "from sklearn.preprocessing import StandardScaler\n",
    "\n",
    "url = \"https://loterias.caixa.gov.br/Paginas/Lotofacil.aspx\"\n"
   ]
  },
  {
   "cell_type": "code",
   "execution_count": 2,
   "id": "3c010262",
   "metadata": {},
   "outputs": [],
   "source": [
    "def open():\n",
    "    driver = webdriver.Chrome()\n",
    "    # Acessar o site\n",
    "    driver.get(url)\n",
    "    return driver \n",
    "\n",
    "\n",
    "# Recuperar a dezena necessária \n",
    "def recuperarDezenas(driver):\n",
    "    # Encontrar a div que contém as dezenas sorteadas\n",
    "    div_dezenas = driver.find_element(By.CLASS_NAME, 'resultado-loteria')\n",
    "\n",
    "    # Encontrar todas as tags <li> que contêm as dezenas\n",
    "    dezenas_tags = div_dezenas.find_elements(By.TAG_NAME, 'li')\n",
    "\n",
    "    # Extrair e imprimir as dezenas sorteadas\n",
    "    return [dezena.text.strip() for dezena in dezenas_tags]\n",
    "\n",
    "def close(driver):\n",
    "    # Fechar o navegador\n",
    "    driver.quit()\n",
    "    \n",
    "def recuperarData(driver):\n",
    "    # Encontrar o elemento usando XPath (vamos usar o título da página como exemplo)\n",
    "    xpath = \"//*[@id='wp_resultados']/div[1]/div/h2/span\"\n",
    "    elemento = driver.find_element(\"xpath\",xpath) \n",
    "    # Extrair e imprimir o texto\n",
    "    data = elemento.text\n",
    "    data_limp = data.split()\n",
    "    data = data_limp[2].replace(\"(\",\"\").replace(\")\",\"\")\n",
    "    dia,mes,ano,concurso  = data[:2], data[3:5],data[6:10],data_limp[1]\n",
    "    \n",
    "    return  [data,dia,mes,ano,concurso]\n",
    "\n",
    "def clicar(driver):\n",
    "    xpath = \"//*[@id='wp_resultados']/div[1]/div/div[2]/ul/li[2]/a\"\n",
    "    elemento = driver.find_element(\"xpath\",xpath)\n",
    "    elemento.click()\n",
    "\n",
    "def escrever(concurso, driver):\n",
    "    xpath = \"//*[@id='buscaConcurso']\"\n",
    "    elemento = driver.find_element(\"xpath\", xpath)\n",
    "    elemento.send_keys(concurso)\n",
    "    elemento.send_keys(Keys.RETURN)\n",
    "    elemento.clear()\n",
    "\n",
    "     \n",
    "   "
   ]
  },
  {
   "cell_type": "code",
   "execution_count": 3,
   "id": "c79fe60e",
   "metadata": {},
   "outputs": [],
   "source": [
    "driver = open()\n",
    "sorteios = []\n",
    "for i in range(2586):\n",
    "    try:\n",
    "        data, dia, mes, ano, concurso = recuperarData(driver)\n",
    "        dezenas = recuperarDezenas(driver)\n",
    "        data, dia, mes, ano, concurso = recuperarData(driver)\n",
    "        dezenas = recuperarDezenas(driver)\n",
    "        dezenas.append(data)\n",
    "        dezenas.append(dia)\n",
    "        dezenas.append(mes)\n",
    "        dezenas.append(ano)\n",
    "        dezenas.append(concurso)\n",
    "        sorteios.append(dezenas)\n",
    "        clicar(driver)\n",
    "    except:\n",
    "        close(driver)\n",
    "        time.sleep(3)\n",
    "        driver = open()\n",
    "        escrever(concurso,driver)\n",
    "    time.sleep(3)\n",
    "\n",
    "\n",
    "close(driver)"
   ]
  },
  {
   "cell_type": "code",
   "execution_count": 4,
   "id": "f7fc5c06",
   "metadata": {},
   "outputs": [],
   "source": [
    "df_dezenas = pd.DataFrame(sorteios, columns=['Dezena_1', 'Dezena_2', 'Dezena_3', 'Dezena_4', 'Dezena_5',\n",
    "                                                   'Dezena_6', 'Dezena_7', 'Dezena_8', 'Dezena_9', 'Dezena_10',\n",
    "                                                   'Dezena_11', 'Dezena_12', 'Dezena_13', 'Dezena_14', 'Dezena_15',\n",
    "                                                   'Data_Sorteio','Dia','Mes','Ano','concurso'])"
   ]
  },
  {
   "cell_type": "code",
   "execution_count": 5,
   "id": "48711759",
   "metadata": {},
   "outputs": [],
   "source": [
    "# Machine learning\n",
    "# 1. Preparação dos Dados\n",
    "df_dezenas['Data_Sorteio'] = pd.to_datetime(df_dezenas['Data_Sorteio'], format='%d/%m/%Y')\n",
    "\n",
    "\n",
    "# Especificar o caminho para o arquivo CSV\n",
    "caminho_arquivo_csv = 'sorteio.csv'\n",
    "\n",
    "# Salvar o DataFrame em um arquivo CSV separado por ponto e vírgula\n",
    "df_dezenas.to_csv(caminho_arquivo_csv, sep=';', index=False)\n",
    "\n",
    "\n",
    "# 2. Criação da Coluna 'Dias_Desde_Inicio'\n",
    "primeira_data = df_dezenas['Data_Sorteio'].min()\n",
    "df_dezenas['Dias_Desde_Inicio'] = (df_dezenas['Data_Sorteio'] - primeira_data).dt.days\n",
    "copy = df_dezenas  \n",
    "df_dezenas = df_dezenas.drop(['Data_Sorteio','Dia','Mes','Ano'], axis=1)"
   ]
  },
  {
   "cell_type": "code",
   "execution_count": null,
   "id": "259681fc",
   "metadata": {},
   "outputs": [],
   "source": [
    "# 3. Divisão dos Dados\n",
    "X = df_dezenas['Dias_Desde_Inicio'].values.reshape(-1, 1)\n",
    "y = df_dezenas[['Dezena_1', 'Dezena_2', 'Dezena_3', 'Dezena_4', 'Dezena_5',\n",
    "                'Dezena_6', 'Dezena_7', 'Dezena_8', 'Dezena_9', 'Dezena_10',\n",
    "                'Dezena_11', 'Dezena_12', 'Dezena_13', 'Dezena_14', 'Dezena_15']]\n",
    "proximo_dia = df_dezenas['Dias_Desde_Inicio'].max() + 1"
   ]
  },
  {
   "cell_type": "code",
   "execution_count": null,
   "id": "c85af08d",
   "metadata": {},
   "outputs": [],
   "source": [
    "# 4. Escolha do Modelo\n",
    "modelo1 = LinearRegression()\n",
    "\n",
    "# 5. Treinamento do Modelo\n",
    "modelo1.fit(X, y)\n",
    "\n",
    "# 6. Previsões para a Primeira Data\n",
    "previsao_primeira_data = modelo1.predict([[proximo_dia]])\n",
    "\n",
    "prev  = [int(i) for i in previsao_primeira_data[0]]\n",
    "\n",
    "print(f'Previsão para a primeira data de sorteio: {prev}')"
   ]
  },
  {
   "cell_type": "code",
   "execution_count": null,
   "id": "af78a088",
   "metadata": {},
   "outputs": [],
   "source": [
    "def numero_mais_frequente_por_coluna(dataset):\n",
    "    mais_frequentes = {}\n",
    "\n",
    "    for coluna in dataset.columns:\n",
    "        # Encontrar o número mais frequente usando o método value_counts\n",
    "        mais_frequente = dataset[coluna].value_counts().idxmax()\n",
    "        \n",
    "        # Armazenar o resultado no dicionário mais_frequentes\n",
    "        mais_frequentes[coluna] = mais_frequente\n",
    "\n",
    "    return mais_frequentes"
   ]
  },
  {
   "cell_type": "code",
   "execution_count": null,
   "id": "47535d87",
   "metadata": {},
   "outputs": [],
   "source": [
    "remove = ['Dias_Desde_Inicio', 'contagem_repeticoes']\n",
    "resultados = numero_mais_frequente_por_coluna(df_dezenas)\n",
    "x = [i for k, i in resultados.items() if k not in remove]\n",
    "print(x)"
   ]
  },
  {
   "cell_type": "code",
   "execution_count": null,
   "id": "470d29f7",
   "metadata": {},
   "outputs": [],
   "source": [
    "df_dezenas.drop(['Dias_Desde_Inicio','contagem_repeticoes'], axis=1)\n",
    "linhas_duplicadas = df_dezenas.duplicated()\n",
    "# Adiciona uma coluna contendo a contagem de cada linha\n",
    "df_dezenas['contagem_repeticoes'] = df_dezenas.groupby(list(df_dezenas.columns)).cumcount() + 1\n",
    "# Filtra as linhas que se repetem\n",
    "linhas_repetidas = df_dezenas[linhas_duplicadas]\n",
    "# Encontra a maior contagem\n",
    "maior_contagem = linhas_repetidas['contagem_repeticoes'].max()\n",
    "linhas = linhas_repetidas[linhas_repetidas['contagem_repeticoes'] == maior_contagem]\n",
    "linhas "
   ]
  },
  {
   "cell_type": "code",
   "execution_count": null,
   "id": "919db6c4",
   "metadata": {},
   "outputs": [],
   "source": [
    "# Separar features (X) e target (y)\n",
    "X = dataset.drop(\"dezenas_sorteio\", axis=1)  # Substitua \"dezenas_sorteio\" pelo nome da coluna alvo\n",
    "y = dataset[\"dezenas_sorteio\"]\n",
    "\n",
    "# Dividir os dados em treinamento e teste\n",
    "X_train, X_test, y_train, y_test = train_test_split(X, y, test_size=0.2, random_state=42)\n"
   ]
  },
  {
   "cell_type": "code",
   "execution_count": null,
   "id": "617304f2",
   "metadata": {},
   "outputs": [],
   "source": [
    "newDataSet = df_dezenas\n",
    "#for i in range(1,26):\n",
    "#    newDataSet[\"numero{}\".format(i)] = i \n",
    "#newDataSet['dezenas_sorteio'] = newDataSet.apply(lambda row: ''.join(map(str, row[1:16])), axis=1)"
   ]
  },
  {
   "cell_type": "code",
   "execution_count": null,
   "id": "091e3d7c",
   "metadata": {},
   "outputs": [],
   "source": [
    "newDataSet"
   ]
  },
  {
   "cell_type": "code",
   "execution_count": null,
   "id": "9bec152d",
   "metadata": {},
   "outputs": [],
   "source": []
  },
  {
   "cell_type": "code",
   "execution_count": null,
   "id": "52f5a8fc",
   "metadata": {},
   "outputs": [],
   "source": []
  },
  {
   "cell_type": "code",
   "execution_count": null,
   "id": "9e1c3ef7",
   "metadata": {},
   "outputs": [],
   "source": []
  },
  {
   "cell_type": "code",
   "execution_count": null,
   "id": "a1ac7c8e",
   "metadata": {},
   "outputs": [],
   "source": []
  },
  {
   "cell_type": "code",
   "execution_count": null,
   "id": "d9765caf",
   "metadata": {},
   "outputs": [],
   "source": [
    "             "
   ]
  }
 ],
 "metadata": {
  "kernelspec": {
   "display_name": "Python 3 (ipykernel)",
   "language": "python",
   "name": "python3"
  },
  "language_info": {
   "codemirror_mode": {
    "name": "ipython",
    "version": 3
   },
   "file_extension": ".py",
   "mimetype": "text/x-python",
   "name": "python",
   "nbconvert_exporter": "python",
   "pygments_lexer": "ipython3",
   "version": "3.10.9"
  }
 },
 "nbformat": 4,
 "nbformat_minor": 5
}
